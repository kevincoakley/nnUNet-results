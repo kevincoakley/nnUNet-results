{
 "cells": [
  {
   "cell_type": "code",
   "execution_count": 1,
   "id": "935f7105-6d8e-4269-9794-f1bcc5f694e6",
   "metadata": {},
   "outputs": [],
   "source": [
    "#! pip install nibabel nipype -U"
   ]
  },
  {
   "cell_type": "code",
   "execution_count": 2,
   "id": "78833855-ebd1-445d-a2ae-7e55aca5fb92",
   "metadata": {
    "slideshow": {
     "slide_type": "skip"
    },
    "tags": []
   },
   "outputs": [],
   "source": [
    "import matplotlib.pyplot as plt\n",
    "import nibabel as nib\n",
    "import numpy as np\n",
    "import pandas as pd"
   ]
  },
  {
   "cell_type": "code",
   "execution_count": 3,
   "id": "cfd38d53-7104-4504-9923-79622f49d8b3",
   "metadata": {
    "slideshow": {
     "slide_type": "skip"
    },
    "tags": []
   },
   "outputs": [],
   "source": [
    "import warnings\n",
    "\n",
    "warnings.filterwarnings(\"ignore\")"
   ]
  },
  {
   "cell_type": "code",
   "execution_count": 4,
   "id": "9ca1cc56-895b-48d5-9590-9c8306d93885",
   "metadata": {},
   "outputs": [],
   "source": [
    "path = \"./Task04_Hippocampus/3d_fullres\"\n",
    "\n",
    "run_data = [\n",
    "    \"A40/22933937\",\n",
    "    \"A100/22933910\",\n",
    "    \"A100/22969078\",\n",
    "    \"A100/22972197\",\n",
    "    \"A100/22972221\",\n",
    "]\n",
    "\n",
    "validation_raw_numbers = [\n",
    "    \"017\",\n",
    "    \"019\",\n",
    "    \"033\",\n",
    "    \"035\",\n",
    "    \"037\",\n",
    "    \"049\",\n",
    "    \"052\",\n",
    "    \"065\",\n",
    "    \"083\",\n",
    "    \"088\",\n",
    "    \"090\",\n",
    "    \"092\",\n",
    "    \"095\",\n",
    "    \"107\",\n",
    "    \"108\",\n",
    "    \"123\",\n",
    "    \"125\",\n",
    "    \"157\",\n",
    "    \"164\",\n",
    "    \"169\",\n",
    "    \"175\",\n",
    "    \"185\",\n",
    "    \"190\",\n",
    "    \"194\",\n",
    "    \"204\",\n",
    "    \"205\",\n",
    "    \"210\",\n",
    "    \"217\",\n",
    "    \"219\",\n",
    "    \"229\",\n",
    "    \"244\",\n",
    "    \"261\",\n",
    "    \"264\",\n",
    "    \"277\",\n",
    "    \"280\",\n",
    "    \"286\",\n",
    "    \"288\",\n",
    "    \"289\",\n",
    "    \"296\",\n",
    "    \"305\",\n",
    "    \"308\",\n",
    "    \"317\",\n",
    "    \"327\",\n",
    "    \"330\",\n",
    "    \"332\",\n",
    "    \"338\",\n",
    "    \"349\",\n",
    "    \"350\",\n",
    "    \"356\",\n",
    "    \"358\",\n",
    "    \"374\",\n",
    "    \"394\",\n",
    "]\n",
    "\n",
    "results = []"
   ]
  },
  {
   "cell_type": "code",
   "execution_count": 5,
   "id": "20094ed5-32ab-4ecf-8a7d-a8c70458bbc4",
   "metadata": {
    "slideshow": {
     "slide_type": "skip"
    },
    "tags": []
   },
   "outputs": [],
   "source": [
    "import nipype.algorithms.metrics\n",
    "\n",
    "# Calculate dice score\n",
    "for run in run_data:\n",
    "\n",
    "    run_info = {}\n",
    "    run_info[run] = {}\n",
    "\n",
    "    for validation_raw_number in validation_raw_numbers:\n",
    "        overlap = nipype.algorithms.metrics.Overlap()\n",
    "        # Ground Truth\n",
    "        overlap.inputs.volume1 = (\n",
    "            \"./Task04_Hippocampus/ground_truth/labelsTr/hippocampus_%s.nii.gz\"\n",
    "            % (validation_raw_number)\n",
    "        )\n",
    "        # Run data\n",
    "        overlap.inputs.volume2 = (\n",
    "            \"%s/%s/results/fold_0/validation_raw_postprocessed/hippocampus_%s.nii.gz\"\n",
    "            % (path, run, validation_raw_number)\n",
    "        )\n",
    "        res = overlap.run()\n",
    "        score = res.outputs.dice\n",
    "\n",
    "        run_info[run][validation_raw_number] = {}\n",
    "        run_info[run][validation_raw_number][\"dice_score\"] = score\n",
    "\n",
    "    results.append(run_info)"
   ]
  },
  {
   "cell_type": "code",
   "execution_count": 6,
   "id": "dc11cd36-90e9-40dd-8f65-2d26892d6417",
   "metadata": {},
   "outputs": [
    {
     "data": {
      "image/png": "[encoded data removed]",
      "text/plain": [
       "<Figure size 1800x720 with 8 Axes>"
      ]
     },
     "metadata": {
      "needs_background": "light"
     },
     "output_type": "display_data"
    }
   ],
   "source": [
    "validation_raw_number = \"350\"\n",
    "display_layer = 15\n",
    "\n",
    "# Calculate the number of rows based on the size of results + 2 (input & ground truth)\n",
    "# and the value of n_cols\n",
    "n_cols = 4\n",
    "n_rows = int(np.ceil((len(results) + 2) / n_cols))\n",
    "\n",
    "# Define the number of rows and columns and set the graph size\n",
    "fig, axes = plt.subplots(nrows=n_rows, ncols=n_cols, figsize=(25, n_rows * 5))\n",
    "\n",
    "# Hide the graph axes\n",
    "for ax in axes.flatten():\n",
    "    ax.axis(\"off\")\n",
    "\n",
    "# Display the input image as the first image\n",
    "axes[0, 0].imshow(\n",
    "    nib.load(\n",
    "        \"./Task04_Hippocampus/ground_truth/imagesTr/hippocampus_%s.nii.gz\"\n",
    "        % (validation_raw_number)\n",
    "    ).get_fdata()[:, :, display_layer],\n",
    "    cmap=\"gray\",\n",
    ")\n",
    "axes[0, 0].set_title(\"Input\")\n",
    "\n",
    "# Display the ground truth as the second image\n",
    "axes[0, 1].imshow(\n",
    "    nib.load(\n",
    "        \"./Task04_Hippocampus/ground_truth/labelsTr/hippocampus_%s.nii.gz\"\n",
    "        % (validation_raw_number)\n",
    "    ).get_fdata()[:, :, display_layer]\n",
    ")\n",
    "axes[0, 1].set_title(\"Ground truth\")\n",
    "\n",
    "\n",
    "for i, result in enumerate(results):\n",
    "\n",
    "    # The first key should the run name (ie A100/12345678)\n",
    "    run = list(result.keys())[0]\n",
    "\n",
    "    image_path = (\n",
    "        \"%s/%s/results/fold_0/validation_raw_postprocessed/hippocampus_%s.nii.gz\"\n",
    "        % (path, run, validation_raw_number)\n",
    "    )\n",
    "\n",
    "    # Use i + 2 instead of i because of the input image and the ground truth always being the first 2 images\n",
    "\n",
    "    # Calculate the row number by dividing the list item number by the number of columns and rounding down\n",
    "    row = int(np.floor((i + 2) / n_cols))\n",
    "    # Calculate the column number by finding the remainder of the list item number divided by the number of columns\n",
    "    column = int(np.remainder((i + 2), n_cols))\n",
    "\n",
    "    # Display the display_layer layer of the image\n",
    "    axes[row, column].imshow(nib.load(image_path).get_fdata()[:, :, display_layer])\n",
    "    axes[row, column].set_title(\n",
    "        \"%s\\nDICE Score: %s\" % (run, result[run][validation_raw_number][\"dice_score\"])\n",
    "    )"
   ]
  },
  {
   "cell_type": "markdown",
   "id": "af7de82d-33ff-441c-8d03-48fbe6d68bfa",
   "metadata": {},
   "source": [
    "### Create a dataframe with just the dice scores"
   ]
  },
  {
   "cell_type": "code",
   "execution_count": 7,
   "id": "f77b3c9a-bb33-4aaa-8335-5e13a084410d",
   "metadata": {},
   "outputs": [
    {
     "data": {
      "text/html": [
       "<div>\n",
       "<style scoped>\n",
       "    .dataframe tbody tr th:only-of-type {\n",
       "        vertical-align: middle;\n",
       "    }\n",
       "\n",
       "    .dataframe tbody tr th {\n",
       "        vertical-align: top;\n",
       "    }\n",
       "\n",
       "    .dataframe thead th {\n",
       "        text-align: right;\n",
       "    }\n",
       "</style>\n",
       "<table border=\"1\" class=\"dataframe\">\n",
       "  <thead>\n",
       "    <tr style=\"text-align: right;\">\n",
       "      <th></th>\n",
       "      <th>A40/22933937</th>\n",
       "      <th>A100/22933910</th>\n",
       "      <th>A100/22969078</th>\n",
       "      <th>A100/22972197</th>\n",
       "      <th>A100/22972221</th>\n",
       "    </tr>\n",
       "  </thead>\n",
       "  <tbody>\n",
       "    <tr>\n",
       "      <th>017</th>\n",
       "      <td>0.92111</td>\n",
       "      <td>0.91897</td>\n",
       "      <td>0.92166</td>\n",
       "      <td>0.92671</td>\n",
       "      <td>0.9224</td>\n",
       "    </tr>\n",
       "    <tr>\n",
       "      <th>019</th>\n",
       "      <td>0.8716</td>\n",
       "      <td>0.86517</td>\n",
       "      <td>0.86989</td>\n",
       "      <td>0.87025</td>\n",
       "      <td>0.86682</td>\n",
       "    </tr>\n",
       "    <tr>\n",
       "      <th>033</th>\n",
       "      <td>0.88198</td>\n",
       "      <td>0.8814</td>\n",
       "      <td>0.8839</td>\n",
       "      <td>0.88494</td>\n",
       "      <td>0.8826</td>\n",
       "    </tr>\n",
       "    <tr>\n",
       "      <th>035</th>\n",
       "      <td>0.89384</td>\n",
       "      <td>0.89476</td>\n",
       "      <td>0.90189</td>\n",
       "      <td>0.89444</td>\n",
       "      <td>0.90059</td>\n",
       "    </tr>\n",
       "    <tr>\n",
       "      <th>037</th>\n",
       "      <td>0.83965</td>\n",
       "      <td>0.83612</td>\n",
       "      <td>0.83784</td>\n",
       "      <td>0.84064</td>\n",
       "      <td>0.83693</td>\n",
       "    </tr>\n",
       "  </tbody>\n",
       "</table>\n",
       "</div>"
      ],
      "text/plain": [
       "    A40/22933937 A100/22933910 A100/22969078 A100/22972197 A100/22972221\n",
       "017      0.92111       0.91897       0.92166       0.92671        0.9224\n",
       "019       0.8716       0.86517       0.86989       0.87025       0.86682\n",
       "033      0.88198        0.8814        0.8839       0.88494        0.8826\n",
       "035      0.89384       0.89476       0.90189       0.89444       0.90059\n",
       "037      0.83965       0.83612       0.83784       0.84064       0.83693"
      ]
     },
     "execution_count": 7,
     "metadata": {},
     "output_type": "execute_result"
    }
   ],
   "source": [
    "dice_scores = pd.DataFrame(index=validation_raw_numbers, columns=run_data)\n",
    "\n",
    "for result in results:\n",
    "\n",
    "    run = list(result.keys())[0]\n",
    "\n",
    "    for validation_raw_number in list(result[run].keys()):\n",
    "        dice_scores[run][validation_raw_number] = result[run][validation_raw_number][\n",
    "            \"dice_score\"\n",
    "        ]\n",
    "\n",
    "dice_scores.head()"
   ]
  },
  {
   "cell_type": "markdown",
   "id": "0b7a7f35-63ea-4156-8355-a9159c8888de",
   "metadata": {},
   "source": [
    "### Create a new column with the dice score range"
   ]
  },
  {
   "cell_type": "code",
   "execution_count": 8,
   "id": "3f0a883f-c231-4118-ab05-52849e131868",
   "metadata": {},
   "outputs": [],
   "source": [
    "dice_scores[\"range\"] = dice_scores.max(axis=1) - dice_scores.min(axis=1)"
   ]
  },
  {
   "cell_type": "markdown",
   "id": "b17a4d51-a623-4352-8266-437540716472",
   "metadata": {},
   "source": [
    "### Sort the dataframe by the dice score \"range\" column"
   ]
  },
  {
   "cell_type": "code",
   "execution_count": 10,
   "id": "57b3fff1-3301-4e53-935a-c1da802d1bb7",
   "metadata": {},
   "outputs": [
    {
     "data": {
      "text/html": [
       "<div>\n",
       "<style scoped>\n",
       "    .dataframe tbody tr th:only-of-type {\n",
       "        vertical-align: middle;\n",
       "    }\n",
       "\n",
       "    .dataframe tbody tr th {\n",
       "        vertical-align: top;\n",
       "    }\n",
       "\n",
       "    .dataframe thead th {\n",
       "        text-align: right;\n",
       "    }\n",
       "</style>\n",
       "<table border=\"1\" class=\"dataframe\">\n",
       "  <thead>\n",
       "    <tr style=\"text-align: right;\">\n",
       "      <th></th>\n",
       "      <th>A40/22933937</th>\n",
       "      <th>A100/22933910</th>\n",
       "      <th>A100/22969078</th>\n",
       "      <th>A100/22972197</th>\n",
       "      <th>A100/22972221</th>\n",
       "      <th>range</th>\n",
       "    </tr>\n",
       "  </thead>\n",
       "  <tbody>\n",
       "    <tr>\n",
       "      <th>350</th>\n",
       "      <td>0.84862</td>\n",
       "      <td>0.84192</td>\n",
       "      <td>0.83845</td>\n",
       "      <td>0.84307</td>\n",
       "      <td>0.8635</td>\n",
       "      <td>0.02505</td>\n",
       "    </tr>\n",
       "    <tr>\n",
       "      <th>049</th>\n",
       "      <td>0.91089</td>\n",
       "      <td>0.90729</td>\n",
       "      <td>0.92999</td>\n",
       "      <td>0.91869</td>\n",
       "      <td>0.9217</td>\n",
       "      <td>0.02270</td>\n",
       "    </tr>\n",
       "    <tr>\n",
       "      <th>217</th>\n",
       "      <td>0.85667</td>\n",
       "      <td>0.86264</td>\n",
       "      <td>0.86498</td>\n",
       "      <td>0.87501</td>\n",
       "      <td>0.86899</td>\n",
       "      <td>0.01834</td>\n",
       "    </tr>\n",
       "    <tr>\n",
       "      <th>107</th>\n",
       "      <td>0.90698</td>\n",
       "      <td>0.90473</td>\n",
       "      <td>0.90735</td>\n",
       "      <td>0.89136</td>\n",
       "      <td>0.90813</td>\n",
       "      <td>0.01677</td>\n",
       "    </tr>\n",
       "    <tr>\n",
       "      <th>280</th>\n",
       "      <td>0.83062</td>\n",
       "      <td>0.81762</td>\n",
       "      <td>0.83147</td>\n",
       "      <td>0.82712</td>\n",
       "      <td>0.81553</td>\n",
       "      <td>0.01594</td>\n",
       "    </tr>\n",
       "  </tbody>\n",
       "</table>\n",
       "</div>"
      ],
      "text/plain": [
       "    A40/22933937 A100/22933910 A100/22969078 A100/22972197 A100/22972221  \\\n",
       "350      0.84862       0.84192       0.83845       0.84307        0.8635   \n",
       "049      0.91089       0.90729       0.92999       0.91869        0.9217   \n",
       "217      0.85667       0.86264       0.86498       0.87501       0.86899   \n",
       "107      0.90698       0.90473       0.90735       0.89136       0.90813   \n",
       "280      0.83062       0.81762       0.83147       0.82712       0.81553   \n",
       "\n",
       "       range  \n",
       "350  0.02505  \n",
       "049  0.02270  \n",
       "217  0.01834  \n",
       "107  0.01677  \n",
       "280  0.01594  "
      ]
     },
     "execution_count": 10,
     "metadata": {},
     "output_type": "execute_result"
    }
   ],
   "source": [
    "dice_scores.sort_values(by=[\"range\"], ascending=False).head()"
   ]
  }
 ],
 "metadata": {
  "kernelspec": {
   "display_name": "Python 3 (ipykernel)",
   "language": "python",
   "name": "python3"
  },
  "language_info": {
   "codemirror_mode": {
    "name": "ipython",
    "version": 3
   },
   "file_extension": ".py",
   "mimetype": "text/x-python",
   "name": "python",
   "nbconvert_exporter": "python",
   "pygments_lexer": "ipython3",
   "version": "3.10.5"
  }
 },
 "nbformat": 4,
 "nbformat_minor": 5
}
