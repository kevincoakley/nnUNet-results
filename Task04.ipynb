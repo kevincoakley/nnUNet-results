{
 "cells": [
  {
   "cell_type": "code",
   "execution_count": 1,
   "id": "935f7105-6d8e-4269-9794-f1bcc5f694e6",
   "metadata": {},
   "outputs": [],
   "source": [
    "#! pip install nibabel nipype -U"
   ]
  },
  {
   "cell_type": "code",
   "execution_count": 2,
   "id": "78833855-ebd1-445d-a2ae-7e55aca5fb92",
   "metadata": {
    "slideshow": {
     "slide_type": "skip"
    },
    "tags": []
   },
   "outputs": [],
   "source": [
    "import matplotlib.pyplot as plt\n",
    "import nibabel as nib\n",
    "import numpy as np"
   ]
  },
  {
   "cell_type": "code",
   "execution_count": 3,
   "id": "cfd38d53-7104-4504-9923-79622f49d8b3",
   "metadata": {
    "slideshow": {
     "slide_type": "skip"
    },
    "tags": []
   },
   "outputs": [],
   "source": [
    "import warnings\n",
    "\n",
    "warnings.filterwarnings(\"ignore\")"
   ]
  },
  {
   "cell_type": "code",
   "execution_count": 4,
   "id": "9ca1cc56-895b-48d5-9590-9c8306d93885",
   "metadata": {},
   "outputs": [],
   "source": [
    "path = \"./Task04_Hippocampus/3d_fullres\"\n",
    "\n",
    "run_data = [\n",
    "    \"A40/22933937\",\n",
    "    \"A100/22933910\",\n",
    "    \"A100/22969078\",\n",
    "    \"A100/22972197\",\n",
    "    \"A100/22972221\",\n",
    "]\n",
    "\n",
    "results = []"
   ]
  },
  {
   "cell_type": "code",
   "execution_count": 5,
   "id": "20094ed5-32ab-4ecf-8a7d-a8c70458bbc4",
   "metadata": {
    "slideshow": {
     "slide_type": "skip"
    },
    "tags": []
   },
   "outputs": [],
   "source": [
    "import nipype.algorithms.metrics\n",
    "\n",
    "# Calculate dice score\n",
    "for run in run_data:\n",
    "\n",
    "    run_info = {}\n",
    "\n",
    "    overlap = nipype.algorithms.metrics.Overlap()\n",
    "    # Ground Truth\n",
    "    overlap.inputs.volume1 = (\n",
    "        \"./Task04_Hippocampus/ground_truth/labelsTr/hippocampus_017.nii.gz\"\n",
    "    )\n",
    "    # Run data\n",
    "    overlap.inputs.volume2 = (\n",
    "        \"%s/%s/results/fold_0/validation_raw_postprocessed/hippocampus_017.nii.gz\"\n",
    "        % (path, run)\n",
    "    )\n",
    "    res = overlap.run()\n",
    "    score = res.outputs.dice\n",
    "\n",
    "    run_info[\"path\"] = run\n",
    "    run_info[\"dice_score\"] = score\n",
    "    results.append(run_info)"
   ]
  },
  {
   "cell_type": "code",
   "execution_count": 6,
   "id": "dc11cd36-90e9-40dd-8f65-2d26892d6417",
   "metadata": {},
   "outputs": [
    {
     "data": {
      "image/png": "[encoded data removed]",
      "text/plain": [
       "<Figure size 1800x720 with 8 Axes>"
      ]
     },
     "metadata": {
      "needs_background": "light"
     },
     "output_type": "display_data"
    }
   ],
   "source": [
    "layer = 15\n",
    "\n",
    "# Calculate the number of rows based on the size of results + 2 (input & ground truth)\n",
    "# and the value of n_cols\n",
    "n_cols = 4\n",
    "n_rows = int(np.ceil((len(results) + 2) / n_cols))\n",
    "\n",
    "# Define the number of rows and columns and set the graph size\n",
    "fig, axes = plt.subplots(nrows=n_rows, ncols=n_cols, figsize=(25, n_rows * 5))\n",
    "\n",
    "# Hide the graph axes\n",
    "for ax in axes.flatten():\n",
    "    ax.axis(\"off\")\n",
    "\n",
    "# Display the input image as the first image\n",
    "axes[0, 0].imshow(\n",
    "    nib.load(\n",
    "        \"./Task04_Hippocampus/ground_truth/imagesTr/hippocampus_017_0000.nii.gz\"\n",
    "    ).get_fdata()[:, :, layer],\n",
    "    cmap=\"gray\",\n",
    ")\n",
    "axes[0, 0].set_title(\"Input\")\n",
    "\n",
    "# Display the ground truth as the second image\n",
    "axes[0, 1].imshow(\n",
    "    nib.load(\n",
    "        \"./Task04_Hippocampus/ground_truth/labelsTr/hippocampus_017.nii.gz\"\n",
    "    ).get_fdata()[:, :, layer]\n",
    ")\n",
    "axes[0, 1].set_title(\"Ground truth\")\n",
    "\n",
    "\n",
    "for i, result in enumerate(results):\n",
    "    image_path = (\n",
    "        \"%s/%s/results/fold_0/validation_raw_postprocessed/hippocampus_017.nii.gz\"\n",
    "        % (path, result[\"path\"])\n",
    "    )\n",
    "\n",
    "    # Use i + 2 instead of i because of the input image and the ground truth always being the first 2 images\n",
    "\n",
    "    # Calculate the row number by dividing the list item number by the number of columns and rounding down\n",
    "    row = int(np.floor((i + 2) / n_cols))\n",
    "    # Calculate the column number by finding the remainder of the list item number divided by the number of columns\n",
    "    column = int(np.remainder((i + 2), n_cols))\n",
    "\n",
    "    # Display the 15th layer of the image\n",
    "    axes[row, column].imshow(nib.load(image_path).get_fdata()[:, :, layer])\n",
    "    axes[row, column].set_title(\n",
    "        \"%s\\nDICE Score: %s\" % (result[\"path\"], result[\"dice_score\"])\n",
    "    )"
   ]
  },
  {
   "cell_type": "code",
   "execution_count": null,
   "id": "f77b3c9a-bb33-4aaa-8335-5e13a084410d",
   "metadata": {},
   "outputs": [],
   "source": []
  }
 ],
 "metadata": {
  "kernelspec": {
   "display_name": "Python 3 (ipykernel)",
   "language": "python",
   "name": "python3"
  },
  "language_info": {
   "codemirror_mode": {
    "name": "ipython",
    "version": 3
   },
   "file_extension": ".py",
   "mimetype": "text/x-python",
   "name": "python",
   "nbconvert_exporter": "python",
   "pygments_lexer": "ipython3",
   "version": "3.10.5"
  }
 },
 "nbformat": 4,
 "nbformat_minor": 5
}
